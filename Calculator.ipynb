{
 "cells": [
  {
   "cell_type": "code",
   "execution_count": 3,
   "metadata": {
    "scrolled": true
   },
   "outputs": [
    {
     "name": "stdout",
     "output_type": "stream",
     "text": [
      "Enter 1 for Addition \n",
      "Enter 2 for Subtraction\n",
      "Enter 3 for Multiplication\n",
      "Enter 4 for Divition\n",
      "Enter the choice:2\n",
      "Enter A:10.7\n",
      "Enter B:2.8\n",
      "7.8999999999999995\n",
      "Do you want to continue?(y/n) : n\n"
     ]
    }
   ],
   "source": [
    "print (\"Enter 1 for Addition \")\n",
    "print (\"Enter 2 for Subtraction\")\n",
    "print (\"Enter 3 for Multiplication\")\n",
    "print (\"Enter 4 for Divition\")\n",
    "\n",
    "class calc :\n",
    "\n",
    "    def Add ( self, A, B ):\n",
    "        print (A + B)\n",
    "    def Sub (self, A, B ):\n",
    "        print (A - B)\n",
    "    def Mul (self, A, B ):\n",
    "        print (A * B)\n",
    "    def Div (self, A, B ):\n",
    "        print (A / B)\n",
    "cont=\"y\"\n",
    "while cont==\"y\" or cont==\"Y\":\n",
    "\n",
    "    C = calc()\n",
    "    try:\n",
    "        Input = float (input (\"Enter the choice:\"))\n",
    "    except ValueError:\n",
    "        print (\"Wrong Input\")\n",
    "        exit()\n",
    "    if Input not in [1,2,3,4]:\n",
    "        print (\"Its not avaliable try again\")\n",
    "        exit ()\n",
    "    A = float(input (\"Enter A:\"))\n",
    "    B = float(input (\"Enter B:\"))\n",
    "\n",
    "    if Input == 1:\n",
    "        C.Add (A,B)\n",
    "    elif Input == 2:\n",
    "        C.Sub (A,B)\n",
    "    elif Input == 3:\n",
    "        C.Mul (A,B)\n",
    "    elif Input == 4:\n",
    "        C.Div (A,B)\n",
    "    cont=input(\"Do you want to continue?(y/n) : \")"
   ]
  },
  {
   "cell_type": "code",
   "execution_count": null,
   "metadata": {},
   "outputs": [],
   "source": []
  }
 ],
 "metadata": {
  "kernelspec": {
   "display_name": "Python 3",
   "language": "python",
   "name": "python3"
  },
  "language_info": {
   "codemirror_mode": {
    "name": "ipython",
    "version": 3
   },
   "file_extension": ".py",
   "mimetype": "text/x-python",
   "name": "python",
   "nbconvert_exporter": "python",
   "pygments_lexer": "ipython3",
   "version": "3.7.3"
  }
 },
 "nbformat": 4,
 "nbformat_minor": 2
}
