{
  "nbformat": 4,
  "nbformat_minor": 0,
  "metadata": {
    "colab": {
      "name": "31_MM34_MH_HW01_SoSe20.ipynb",
      "provenance": [],
      "collapsed_sections": []
    },
    "kernelspec": {
      "display_name": "Python 3",
      "language": "python",
      "name": "python3"
    },
    "language_info": {
      "codemirror_mode": {
        "name": "ipython",
        "version": 3
      },
      "file_extension": ".py",
      "mimetype": "text/x-python",
      "name": "python",
      "nbconvert_exporter": "python",
      "pygments_lexer": "ipython3",
      "version": "3.8.2"
    }
  },
  "cells": [
    {
      "cell_type": "code",
      "metadata": {
        "colab_type": "code",
        "id": "Z1EOwqXZoCsi",
        "colab": {}
      },
      "source": [
        "import numpy as np\n",
        "import math"
      ],
      "execution_count": 2,
      "outputs": []
    },
    {
      "cell_type": "code",
      "metadata": {
        "colab_type": "code",
        "id": "X8D72Sujr0_q",
        "colab": {}
      },
      "source": [
        "# Instance generation\n",
        "\n",
        "class Instance(object):\n",
        "    def __init__(self, inst_seed, nb_items):\n",
        "      self.seed = inst_seed\n",
        "      self.nb_items = nb_items\n",
        "\n",
        "\n",
        "      np.random.seed(self.seed)\n",
        "\n",
        "      self.item_weight = np.random.randint(1, 10, size=self.nb_items)\n",
        "      self.item_volume = np.random.randint(1, 10, size=self.nb_items)\n",
        "      self.item_value = np.random.randint(1, 10, size=self.nb_items)\n",
        "\n",
        "      self.knapsack_weight = sum(self.item_weight) - math.ceil(sum(self.item_weight) / 5)\n",
        "      self.knapsack_volume = sum(self.item_volume) - math.ceil(sum(self.item_volume) / 5)\n",
        "\n",
        "      instance_seed = 0\n",
        "\n",
        "    def __str__(self):\n",
        "      text = \"Instance\\n\"\n",
        "      text += f\"|- Knapsack with a maximum weight of {self.knapsack_weight} and maximum volume of {self.knapsack_volume}.\\n\"\n",
        "      text += f\"|- Number of items: {self.nb_items}.\\n\"\n",
        "      text += f\"|- Item weights:{self.item_weight}.\\n\"\n",
        "      text += f\"|- Item volumes:{self.item_volume}.\\n\"\n",
        "      text += f\"|- Item values:\\t{self.item_value}.\\n\"\n",
        "\n",
        "      return text"
      ],
      "execution_count": 3,
      "outputs": []
    },
    {
      "cell_type": "code",
      "metadata": {
        "colab_type": "code",
        "id": "kYD4GNlxzYDL",
        "colab": {}
      },
      "source": [
        "# Solution checker\n",
        "\n",
        "def check_solution(inst, sol):\n",
        "  sol_weight = 0\n",
        "  sol_volume = 0\n",
        "  sol_value = 0\n",
        "  \n",
        "  text = \"\"\n",
        "\n",
        "  for item in sol:\n",
        "    sol_weight += inst.item_weight[item]\n",
        "    if sol_weight > inst.knapsack_weight:\n",
        "      return f\"Solution:infeasible\\nItems:\\t{' '.join([str(xx) for xx in sol])}\\nValue:\\tWeight too high\"\n",
        "    sol_volume += inst.item_volume[item]\n",
        "    if sol_volume > inst.knapsack_volume:\n",
        "      return f\"Solution:infeasible\\nItems:\\t{' '.join([str(xx) for xx in sol])}\\nValue:\\tVolume too high\"\n",
        "    sol_value += inst.item_value[item]\n",
        "\n",
        "  return f\"Solution:feasible\\nItems:\\t{' '.join([str(xx) for xx in sol])}\\nValue:\\t{sol_value}\"\n",
        "    "
      ],
      "execution_count": 4,
      "outputs": []
    },
    {
      "cell_type": "code",
      "metadata": {
        "colab_type": "code",
        "id": "oh8c8Jkiym6j",
        "colab": {}
      },
      "source": [
        "def heuristic(inst):\n",
        "  sol = []\n",
        "  rates = []\n",
        "  for i in range(nb_items):\n",
        "    rates.append(inst.item_value[i]/((inst.item_volume[i]/inst.knapsack_volume)+(inst.item_weight[i]/inst.knapsack_weight)))\n",
        "  sorted_rates_idx = sorted(range(len(rates)), key=lambda k: rates[k])\n",
        "  sorted_rates_idx = sorted_rates_idx[::-1]\n",
        "  sum_weight = 0\n",
        "  sum_volume = 0\n",
        "  sum_value = 0\n",
        "  for idx in sorted_rates_idx:\n",
        "    if sum_weight + inst.item_weight[idx] <= inst.knapsack_weight and sum_volume + inst.item_volume[idx] <= inst.knapsack_volume:\n",
        "      sum_weight += inst.item_weight[idx]\n",
        "      sum_volume += inst.item_volume[idx]\n",
        "      sum_value += inst.item_value[idx]\n",
        "      sol.append(idx)\n",
        "  sol = sorted(sol)\n",
        "\n",
        "\n",
        "  # Example to access values\n",
        "  # Weight of the knapsack: inst.knapsack_weight\n",
        "  # Volume of the knapsack: inst.knapsack_volume\n",
        "  # Weight of item 1: inst.item_weight[1]\n",
        "  # Volume of item 3: inst.item_weight[3]\n",
        "  # Value of item 2: inst.item_value[2]\n",
        "\n",
        "\n",
        "  return sol"
      ],
      "execution_count": 5,
      "outputs": []
    },
    {
      "cell_type": "code",
      "metadata": {
        "colab_type": "code",
        "id": "T57Hmnxbv1P6",
        "colab": {
          "base_uri": "https://localhost:8080/",
          "height": 187
        },
        "outputId": "f4cfbfdd-7060-4739-99d5-e7fbce7c2201"
      },
      "source": [
        "seed = 0\n",
        "nb_items = 5\n",
        "\n",
        "instance = Instance(seed, nb_items)\n",
        "print(instance)\n",
        "solution = heuristic(instance)\n",
        "print(check_solution(instance, solution))"
      ],
      "execution_count": 6,
      "outputs": [
        {
          "output_type": "stream",
          "text": [
            "Instance\n",
            "|- Knapsack with a maximum weight of 18 and maximum volume of 20.\n",
            "|- Number of items: 5.\n",
            "|- Item weights:[6 1 4 4 8].\n",
            "|- Item volumes:[4 6 3 5 8].\n",
            "|- Item values:\t[7 9 9 2 7].\n",
            "\n",
            "Solution:feasible\n",
            "Items:\t0 1 2 3\n",
            "Value:\t27\n"
          ],
          "name": "stdout"
        }
      ]
    }
  ]
}